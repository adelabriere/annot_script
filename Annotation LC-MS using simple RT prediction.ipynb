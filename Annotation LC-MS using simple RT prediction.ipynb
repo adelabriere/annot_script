{
 "cells": [
  {
   "cell_type": "markdown",
   "metadata": {},
   "source": [
    "# A simple MZ-RT annotation script"
   ]
  },
  {
   "cell_type": "markdown",
   "metadata": {},
   "source": [
    "THis notebook perform a simple RT annotation of a set of features (From a datamatrix) using a list of candidates (from a table with InChi and ID) from a table aswell as a list of reference features containing at least the structure and a retention time (InChi and RT). The script will then perofrm the follwoing step sequentially:\n",
    " * Compute an RT prediction model using the references\n",
    " * Compute the set of possible mass given the mass in the data\n",
    " * Compute the best possible annotation using maximum matching and ht epredicted properties\n",
    " The output will be givne as a datatable which will rank the different candidat aswell as giving a main annotation."
   ]
  },
  {
   "cell_type": "markdown",
   "metadata": {},
   "source": [
    "## Prerequisite "
   ]
  },
  {
   "cell_type": "markdown",
   "metadata": {},
   "source": [
    "We first just load the required packages (There is a bunch)"
   ]
  },
  {
   "cell_type": "code",
   "execution_count": 12,
   "metadata": {},
   "outputs": [],
   "source": [
    "from rdkit.Chem import MolFromInchi\n",
    "from rdkit.Chem.Descriptors import ExactMolWt,descList\n",
    "from rdkit.ML.Descriptors import MoleculeDescriptors\n",
    "from networkx import max_weight_matching,Graph,isolates\n",
    "from networkx.algorithms.bipartite.matching import minimum_weight_full_matching\n",
    "from sklearn.model_selection import cross_val_score\n",
    "from scipy.stats import norm\n",
    "import xgboost as xgb\n",
    "import pandas as pd\n",
    "import numpy as np\n",
    "import matplotlib.pyplot as plt\n",
    "import seaborn as sns"
   ]
  },
  {
   "cell_type": "markdown",
   "metadata": {},
   "source": [
    "Then we just define some constant which will be used to process the data:"
   ]
  },
  {
   "cell_type": "code",
   "execution_count": 73,
   "metadata": {},
   "outputs": [],
   "source": [
    "TEST = True\n",
    "FINAL_OUTPUT_PATH = \"path to output\"\n",
    "FEAT_PATH = \"path to features.csv\"\n",
    "CAND_PATH = \"path to candidates.csv\"\n",
    "REF_PATH = \"path to references.csv\"\n",
    "\n",
    "#Feature table\n",
    "FEAT_MZ_COL = \"mz\"\n",
    "FEAT_RT_COL = \"rt\"\n",
    "FEAT_DELIMITER = \"\\t\"\n",
    "\n",
    "# Candidates table\n",
    "CAND_INCHI_COL = \"inchi\"\n",
    "CAND_NAME_COL = \"kegg_id\"\n",
    "CAND_SUPP = [\"name\",\"inchi\"]\n",
    "CAND_DELIMITER = \";\"\n",
    "\n",
    "# Reference table\n",
    "REF_INCHI_COL = \"inchi\"\n",
    "REF_RT_COL = \"rt\"\n",
    "REF_DELIMITER = \";\"\n",
    "\n",
    "if TEST:\n",
    "    FINAL_OUTPUT_PATH = \"/home/dalexis/Documents/test_output_annot_script.csv\"\n",
    "    REF_PATH = \"/home/dalexis/Documents/data/metDNA_datasets/Dataset 1/spiked_with_inchi2.csv\"\n",
    "    REF_RT_COL = \"RT..s.\"\n",
    "    REF_DELIMITER = \",\"\n",
    "    CAND_PATH = \"/home/dalexis/Documents/data/databases/kegg/kegg.csv\"\n",
    "    CAND_INCHI_COL = \"inchi\"\n",
    "    CAND_NAME_COL = \"kegg_id\"\n",
    "    FEAT_PATH = \"/home/dalexis/Documents/data/metDNA_datasets/Dataset 1/POS/data.csv\"\n",
    "    FEAT_MZ_COL = \"mz\"\n",
    "    FEAT_RT_COL = \"rt\"\n",
    "    FEAT_DELIMITER = \",\"\n",
    "    "
   ]
  },
  {
   "cell_type": "markdown",
   "metadata": {},
   "source": [
    "__This part incorporate the tolerance of the annotation. It should eb changed dependeing of your experiment:__"
   ]
  },
  {
   "cell_type": "code",
   "execution_count": 14,
   "metadata": {
    "scrolled": true
   },
   "outputs": [],
   "source": [
    "# This can be in minutes or seconds depending of the unit of your feature or reference table\n",
    "# If it is None it will be set to 2 times the erro of the model\n",
    "ACCURACY_RT = 30\n",
    "ACCURACY_MZ = 0.007# This is the target accuracy MZ\n",
    "CUTOFF_MZ_DA = 0.01 #THis is a strict cut-off used ot collect candidates it should logically be high than accuracy mz\n",
    "CUTOFF_MZ_PPM = 15"
   ]
  },
  {
   "cell_type": "markdown",
   "metadata": {},
   "source": [
    "We now load all the table"
   ]
  },
  {
   "cell_type": "code",
   "execution_count": 15,
   "metadata": {},
   "outputs": [],
   "source": [
    "refs = pd.read_csv(REF_PATH,delimiter = REF_DELIMITER)\n",
    "candidates = pd.read_csv(CAND_PATH,delimiter = CAND_DELIMITER)\n",
    "features = pd.read_csv(FEAT_PATH,delimiter = FEAT_DELIMITER)"
   ]
  },
  {
   "cell_type": "markdown",
   "metadata": {},
   "source": [
    "## RT prediction "
   ]
  },
  {
   "cell_type": "markdown",
   "metadata": {},
   "source": [
    "This part predict RT using the references. We start by computing the descriptor"
   ]
  },
  {
   "cell_type": "code",
   "execution_count": 58,
   "metadata": {},
   "outputs": [
    {
     "name": "stdout",
     "output_type": "stream",
     "text": [
      "(200, 208)\n"
     ]
    }
   ],
   "source": [
    "# We parse the references molecules\n",
    "mols = [MolFromInchi(inchi) for inchi in refs[REF_INCHI_COL]]\n",
    "\n",
    "# descList is a list of pair name,function where name is a descriptor\n",
    "descriptor_calculator = MoleculeDescriptors.MolecularDescriptorCalculator([dd[0] for dd in descList])\n",
    "\n",
    "def compute_descriptors(mol):\n",
    "    return descriptor_calculator.CalcDescriptors(mol)\n",
    "\n",
    "descriptors = [compute_descriptors(mol) for mol in mols]\n",
    "X = np.vstack(descriptors)\n",
    "Y = np.array(refs[REF_RT_COL].tolist())\n",
    "print(X.shape)\n",
    "#At this point we have the descriptors, we stack them for easier processind\n"
   ]
  },
  {
   "cell_type": "markdown",
   "metadata": {},
   "source": [
    "We then remove the columns with constant and missing values:"
   ]
  },
  {
   "cell_type": "code",
   "execution_count": 59,
   "metadata": {},
   "outputs": [],
   "source": [
    "#Dropping the nan\n",
    "df = pd.concat([pd.DataFrame(Y),pd.DataFrame(X)],axis=1)\n",
    "df = df.dropna()\n",
    "Y = df.iloc[:,0]\n",
    "X = df.iloc[:,1:]\n",
    "\n",
    "#Remove the constant elements\n",
    "sel_descriptors = (X != X.iloc[0]).any()\n",
    "X = X.loc[:, sel_descriptors] \n"
   ]
  },
  {
   "cell_type": "markdown",
   "metadata": {},
   "source": [
    "The resulting table has dim:  "
   ]
  },
  {
   "cell_type": "code",
   "execution_count": 60,
   "metadata": {},
   "outputs": [
    {
     "name": "stdout",
     "output_type": "stream",
     "text": [
      "(200, 167)\n"
     ]
    }
   ],
   "source": [
    "print(X.shape)"
   ]
  },
  {
   "cell_type": "markdown",
   "metadata": {},
   "source": [
    "We can then fit a simple xgboost model:"
   ]
  },
  {
   "cell_type": "code",
   "execution_count": 69,
   "metadata": {},
   "outputs": [],
   "source": [
    "xgbm = xgb.XGBRegressor(booster=\"gblinear\",n_estimators=50,learning_rate=0.05)\n",
    "vscore = cross_val_score(xgbm,X.to_numpy(),Y,cv=5)"
   ]
  },
  {
   "cell_type": "markdown",
   "metadata": {},
   "source": [
    "The mean prediction score is then compared to the data in"
   ]
  },
  {
   "cell_type": "code",
   "execution_count": 70,
   "metadata": {},
   "outputs": [
    {
     "data": {
      "image/png": "[encoded data removed]",
      "text/plain": [
       "<Figure size 432x288 with 1 Axes>"
      ]
     },
     "metadata": {
      "needs_background": "light"
     },
     "output_type": "display_data"
    }
   ],
   "source": [
    "ax = sns.boxplot(y=vscore)\n",
    "ax = ax.set(xlabel='common xlabel', ylabel=\"Mean squared error\")"
   ]
  },
  {
   "cell_type": "markdown",
   "metadata": {},
   "source": [
    "We then do the do the ful prediction:"
   ]
  },
  {
   "cell_type": "code",
   "execution_count": 71,
   "metadata": {},
   "outputs": [
    {
     "data": {
      "image/png": "[encoded data removed]",
      "text/plain": [
       "<Figure size 432x288 with 1 Axes>"
      ]
     },
     "metadata": {
      "needs_background": "light"
     },
     "output_type": "display_data"
    }
   ],
   "source": [
    "xgbm = xgbm.fit(X.to_numpy(),Y)\n",
    "ax = sns.scatterplot(x=Y,y=xgbm.predict(X.to_numpy()))\n",
    "ax = ax.set(xlabel='RT', ylabel=\"predicted(RT)\")"
   ]
  },
  {
   "cell_type": "markdown",
   "metadata": {},
   "source": [
    "We can now predict RT for all the candidates (This step can be time consuming. If you use it many times you can consider cahing the descriptors)"
   ]
  },
  {
   "cell_type": "code",
   "execution_count": 22,
   "metadata": {},
   "outputs": [
    {
     "name": "stderr",
     "output_type": "stream",
     "text": [
      "RDKit ERROR: [14:39:07] ERROR: Explicit valence for atom # 10 S, 8, is greater than permitted\n",
      "RDKit ERROR: [14:40:02] Explicit valence for atom # 10 S, 8, is greater than permitted\n"
     ]
    }
   ],
   "source": [
    "mols = [MolFromInchi(inchi) for inchi in candidates[CAND_INCHI_COL]]\n",
    "#We remove the invalid inchi\n",
    "valid_candidates = [idx for idx,mol in enumerate(mols) if mol is not None]\n",
    "descriptors = [compute_descriptors(mols[idx]) for idx in valid_candidates]\n",
    "X = np.vstack(descriptors)"
   ]
  },
  {
   "cell_type": "code",
   "execution_count": 23,
   "metadata": {},
   "outputs": [],
   "source": [
    "pred_RT = xgbm.predict(X[:,sel_descriptors])\n",
    "# We also compute the thoeritical mass of the candidates\n",
    "pred_mass = [ExactMolWt(mols[idx]) for idx in valid_candidates] \n"
   ]
  },
  {
   "cell_type": "markdown",
   "metadata": {},
   "source": [
    "## Doing the matching"
   ]
  },
  {
   "cell_type": "markdown",
   "metadata": {},
   "source": [
    "Using the predicted RT and the computed mass we first find the candidates to do se we first have to compute the adduct mass."
   ]
  },
  {
   "cell_type": "code",
   "execution_count": 24,
   "metadata": {},
   "outputs": [],
   "source": [
    "adducts = [(\"+H\",1.00728),(\"+Na\",22.9897)]\n",
    "all_candidates_masses = np.array([mass+add_mass for mass in pred_mass for ass,add_mass in adducts])\n"
   ]
  },
  {
   "cell_type": "markdown",
   "metadata": {},
   "source": [
    "We then do the mass matching using a ppn and dmz tolerance."
   ]
  },
  {
   "cell_type": "code",
   "execution_count": 25,
   "metadata": {},
   "outputs": [],
   "source": [
    "def match_mz(x,y,ppm=10,dmz=0.01,single_match=False):\n",
    "    ox = np.argsort(x)\n",
    "    oy = np.argsort(y)\n",
    "    ty = y[oy]\n",
    "    x_max_ppm = x[ox]+(ppm*x[ox]*1e-6)\n",
    "    x_max_dmz = x[ox]+dmz\n",
    "    x_max = np.maximum(x_max_ppm,x_max_dmz)\n",
    "    x_min_ppm = x[ox]-(ppm*x[ox]*1e-6)\n",
    "    x_min_dmz = x[ox]-dmz\n",
    "    x_min = np.minimum(x_min_ppm,x_min_dmz)\n",
    "    lb = np.searchsorted(ty,x_min)\n",
    "    ub = np.searchsorted(ty,x_max)\n",
    "\n",
    "    size_matches = ub-lb\n",
    "    res = [None] * ox.shape[0]\n",
    "    for idx in range(len(res)):\n",
    "        if size_matches[idx]==0: continue\n",
    "        val_idx = oy[lb[idx]:ub[idx]]\n",
    "        res[ox[idx]]=list(val_idx)\n",
    "\n",
    "    return res\n",
    "\n",
    "feat_mz = features[FEAT_MZ_COL].to_numpy()\n",
    "feat_rt = features[FEAT_RT_COL].to_numpy()\n",
    "vmatch = match_mz(feat_mz,all_candidates_masses)"
   ]
  },
  {
   "cell_type": "markdown",
   "metadata": {},
   "source": [
    "To distinguish between the different candidates we build a graph and perform a maximal matching.The goodness of a match is detemrined by modelling agaussiuan error across the rest of this shit."
   ]
  },
  {
   "cell_type": "code",
   "execution_count": 26,
   "metadata": {},
   "outputs": [],
   "source": [
    "nfeatures = features.shape[0]\n",
    "ncandidates = len(all_candidates_masses)\n",
    "\n",
    "##Initalizing the graph\n",
    "G = Graph()\n",
    "G.add_nodes_from(range(nfeatures),bipartite=0)\n",
    "G.add_nodes_from(range(nfeatures,nfeatures+ncandidates),bipartite=1)\n",
    "\n",
    "\n",
    "# This is the function for the socring\n",
    "def dist_mz(x):\n",
    "    return norm.pdf(x,loc=0,scale=ACCURACY_MZ)\n",
    "def dist_rt(x):\n",
    "    return norm.pdf(x,loc=0,scale=ACCURACY_RT)\n",
    "\n",
    "def make_edge_weight(fmz,frt,tmz,trt):\n",
    "    return(1-dist_mz(fmz-tmz)*dist_rt(frt-trt))\n",
    "\n",
    "#We add the edges of the graph\n",
    "all_edges = []\n",
    "epsilon= 1e-7\n",
    "for ifeat,fmatch in enumerate(vmatch):\n",
    "    if fmatch is None:\n",
    "        continue\n",
    "    current_edges = []\n",
    "    for fcand in vmatch[ifeat]:\n",
    "        cand_no_adduct = fcand//2\n",
    "        #SOrry for this ugly line\n",
    "        weight = make_edge_weight(feat_mz[ifeat],feat_rt[ifeat],all_candidates_masses[fcand],pred_RT[cand_no_adduct])\n",
    "        if weight<=epsilon:\n",
    "            continue\n",
    "        current_edges.append((ifeat,fcand+nfeatures,{\"weight\":weight}))\n",
    "    all_edges.append(current_edges)\n",
    "    \n",
    "all_edges = [y for x in all_edges for y in x]\n",
    "G.add_edges_from(all_edges)\n",
    "G.remove_nodes_from(list(isolates(G)))"
   ]
  },
  {
   "cell_type": "markdown",
   "metadata": {},
   "source": [
    "We can check the number of candidates by features:"
   ]
  },
  {
   "cell_type": "code",
   "execution_count": 27,
   "metadata": {},
   "outputs": [
    {
     "data": {
      "image/png": "[encoded data removed]",
      "text/plain": [
       "<Figure size 432x288 with 1 Axes>"
      ]
     },
     "metadata": {
      "needs_background": "light"
     },
     "output_type": "display_data"
    }
   ],
   "source": [
    "ax = plt.hist([len(G[x]) for x in G],bins=25)\n",
    "# THIs is dome debug code that I leave because there is a high chance that I need it at some point\n",
    "# if False:\n",
    "#     debug_idx = 100\n",
    "#     VEDGE = all_edges[debug_idx]\n",
    "#     print(VEDGE)\n",
    "#     print(\"fmz:\",feat_mz[VEDGE[0]])\n",
    "#     print(\"frt:\",feat_rt[VEDGE[0]])\n",
    "#     print(\"tmz:\",all_candidates_masses[VEDGE[1]-nfeatures])\n",
    "#     print(\"trt:\",pred_RT[(VEDGE[1]-nfeatures)//2])\n"
   ]
  },
  {
   "cell_type": "markdown",
   "metadata": {},
   "source": [
    "This step is potentially time consuming, normally not too much except if you have a lot of features."
   ]
  },
  {
   "cell_type": "code",
   "execution_count": 33,
   "metadata": {},
   "outputs": [],
   "source": [
    "## I would love to do a maxmatching but the networkx algorithm is badly implemented and crashes. I have ot recode it at some point\n",
    "if False:\n",
    "    val_match = minimum_weight_full_matching(G,weight='weight',top_nodes=list(range(nfeatures)))\n",
    "else:\n",
    "    val_match = [None]*nfeatures\n",
    "    for fidx in range(nfeatures):\n",
    "        if fidx not in G or len(G[fidx])==0: continue\n",
    "        val_match[fidx] = (min([x for x in G[fidx]],key=lambda x: G[fidx][x][\"weight\"]),[x for x in G[fidx]])\n",
    "        "
   ]
  },
  {
   "cell_type": "markdown",
   "metadata": {},
   "source": [
    "We now just have to build the output."
   ]
  },
  {
   "cell_type": "markdown",
   "metadata": {},
   "source": [
    "## Output Building "
   ]
  },
  {
   "cell_type": "markdown",
   "metadata": {},
   "source": [
    "We just build exactly the same table but add each matching in the table."
   ]
  },
  {
   "cell_type": "code",
   "execution_count": 74,
   "metadata": {},
   "outputs": [],
   "source": [
    "main_annot = [None]*nfeatures\n",
    "all_annot = [None]*nfeatures\n",
    "score = [None]*nfeatures\n",
    "supp_col = []\n",
    "supp_col_all = []\n",
    "for _ in CAND_SUPP:\n",
    "    supp_col.append([None]*nfeatures)\n",
    "    supp_col_all.append([None]*nfeatures)\n",
    "for fidx in range(nfeatures):\n",
    "    if val_match[fidx] is None:\n",
    "        continue\n",
    "    else:\n",
    "        main_cand = valid_candidates[(val_match[fidx][0]-nfeatures)//2]\n",
    "        supp_cands = [valid_candidates[(x - nfeatures)//2] for x in val_match[fidx][1]]\n",
    "        main_annot[fidx] = candidates[CAND_NAME_COL].iloc[main_cand]\n",
    "        all_annot[fidx] = \"|\".join([candidates[CAND_NAME_COL].iloc[cc] for cc in supp_cands])\n",
    "        for sidx in range(len(CAND_SUPP)):\n",
    "            supp_col[sidx][fidx] = candidates[CAND_SUPP[sidx]].iloc[main_cand]\n",
    "            supp_col_all[sidx][fidx] = \"|\".join([candidates[CAND_SUPP[sidx]].iloc[cc] for cc in supp_cands])\n",
    "    \n",
    "#We now build the final table\n",
    "final_table = features.copy()\n",
    "final_table[\"main_annotation\"] = main_annot\n",
    "final_table[\"all_candidates\"] = all_annot\n",
    "for sidx in range(len(CAND_SUPP)):\n",
    "    final_table[\"main_annotation_\"+CAND_SUPP[sidx]] = supp_col[sidx]\n",
    "    final_table[\"all_candidates_\"+CAND_SUPP[sidx]] = supp_col_all[sidx]\n"
   ]
  },
  {
   "cell_type": "markdown",
   "metadata": {},
   "source": [
    "We just have to export the annotation"
   ]
  },
  {
   "cell_type": "code",
   "execution_count": 77,
   "metadata": {},
   "outputs": [
    {
     "data": {
      "text/plain": [
       "'/home/dalexis/Documents/test_output_annot_script.csv'"
      ]
     },
     "execution_count": 77,
     "metadata": {},
     "output_type": "execute_result"
    }
   ],
   "source": [
    " final_table.to_csv(FINAL_OUTPUT_PATH,index=False)\n",
    "FINAL_OUTPUT_PATH"
   ]
  }
 ],
 "metadata": {
  "kernelspec": {
   "display_name": "linkpred",
   "language": "python",
   "name": "linkpred"
  },
  "language_info": {
   "codemirror_mode": {
    "name": "ipython",
    "version": 3
   },
   "file_extension": ".py",
   "mimetype": "text/x-python",
   "name": "python",
   "nbconvert_exporter": "python",
   "pygments_lexer": "ipython3",
   "version": "3.7.9"
  }
 },
 "nbformat": 4,
 "nbformat_minor": 4
}
